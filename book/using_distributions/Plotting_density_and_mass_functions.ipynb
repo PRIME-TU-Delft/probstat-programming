{
 "cells": [
  {
   "cell_type": "markdown",
   "metadata": {},
   "source": [
    "# Plotting probability density, mass and cumulative distribution functions\n",
    "In order to get a good idea of what a given distribution is all about it can be helpful to visualize the probability density, mass and cumulative distribution functions. Below we start by plotting the probability density function for the $N(-1,4)$ distribution. "
   ]
  },
  {
   "cell_type": "code",
   "execution_count": null,
   "metadata": {
    "tags": [
     "thebe-remove-input-init"
    ]
   },
   "outputs": [],
   "source": [
    "import micropip\n",
    "await micropip.install('seaborn')\n",
    "await micropip.install('ipywidgets')"
   ]
  },
  {
   "cell_type": "code",
   "execution_count": null,
   "metadata": {},
   "outputs": [],
   "source": [
    "import numpy as np\n",
    "import seaborn as sns  \n",
    "import matplotlib.pyplot as plt\n",
    "import scipy.stats as ss\n",
    "import ipywidgets as widgets\n",
    "from ipywidgets import interactive"
   ]
  },
  {
   "cell_type": "code",
   "execution_count": null,
   "metadata": {},
   "outputs": [],
   "source": [
    "variance = 4 \n",
    "mean  = -1\n",
    "x = np.linspace(-7, 5, 1000)\n",
    "y = (1/np.sqrt(2*np.pi*variance))*np.exp(-0.5*((x-mean)**2)/variance)\n",
    "sns.set(style=\"whitegrid\")\n",
    "\n",
    "plt.figure(figsize=(10, 6))\n",
    "plt.plot(x, y, label=\"N(-1,4)\", color=\"tab:blue\")\n",
    "\n",
    "plt.title('N(-1,4) density function')\n",
    "plt.xlabel(\"Value\")\n",
    "plt.ylabel(\"Density\")\n",
    "\n",
    "\n",
    "plt.show()"
   ]
  },
  {
   "cell_type": "markdown",
   "metadata": {},
   "source": [
    "Above we entered the formula for the probability density function ourselves. This can be useful to consider distributions that are not often used. For instance consider the distribution with the probability density function as below. "
   ]
  },
  {
   "cell_type": "code",
   "execution_count": null,
   "metadata": {},
   "outputs": [],
   "source": [
    "x = np.linspace(-2, 2, 1000)\n",
    "y = np.sqrt(4-x**2)/(2*np.pi)\n",
    "sns.set(style=\"whitegrid\")\n",
    "\n",
    "plt.figure(figsize=(10, 6))\n",
    "plt.plot(x, y, color=\"tab:blue\")\n",
    "\n",
    "plt.title('Rarely used density function')\n",
    "plt.xlabel(\"Value\")\n",
    "plt.ylabel(\"Density\")\n",
    "\n",
    "\n",
    "\n",
    "plt.show()"
   ]
  },
  {
   "cell_type": "markdown",
   "metadata": {},
   "source": [
    "However, often used probability density functions can be imported from a library like scipy as well. "
   ]
  },
  {
   "cell_type": "code",
   "execution_count": null,
   "metadata": {},
   "outputs": [],
   "source": [
    "\n",
    "x = np.linspace(-5, 5, 1000)\n",
    "\n",
    "pdf_normal = ss.norm.pdf(x, loc=0, scale=1) \n",
    "pdf_exponential = ss.expon.pdf(x, scale=1)  \n",
    "pdf_uniform = ss.uniform.pdf(x, loc=-2, scale=4)  \n",
    "\n",
    "sns.set(style=\"whitegrid\")\n",
    "\n",
    "plt.figure(figsize=(25, 6))\n",
    "\n",
    "plt.subplot(1,3,1)\n",
    "plt.plot(x, pdf_normal, label=\"N(0,1)\", color=\"tab:blue\")\n",
    "plt.title(\"PDF for N(0,1)\")\n",
    "plt.xlabel(\"Value\")\n",
    "plt.ylabel(\"Density\")\n",
    "\n",
    "plt.subplot(1,3,2)\n",
    "plt.plot(x, pdf_exponential, label=\"Exp(1)\", color=\"tab:green\")\n",
    "\n",
    "plt.title(\"PDF for Exp(1)\")\n",
    "plt.xlabel(\"Value\")\n",
    "plt.ylabel(\"Density\")\n",
    "\n",
    "\n",
    "plt.subplot(1,3,3)\n",
    "plt.plot(x, pdf_uniform, label=\"U(-2,2)\", color=\"tab:orange\")\n",
    "\n",
    "plt.title(\"PDF for U(-2,2)\")\n",
    "plt.xlabel(\"Value\")\n",
    "plt.ylabel(\"Density\")\n",
    "\n",
    "\n",
    "\n",
    "\n",
    "plt.show()"
   ]
  },
  {
   "cell_type": "markdown",
   "metadata": {},
   "source": [
    "The area uder these curves gives us the probability so sometimes it can be nice to shade these regions. "
   ]
  },
  {
   "cell_type": "code",
   "execution_count": null,
   "metadata": {},
   "outputs": [],
   "source": [
    "\n",
    "\n",
    "x = np.linspace(-5, 5, 1000)\n",
    "\n",
    "pdf_exponential = ss.expon.pdf(x, scale=0.5)  \n",
    "\n",
    "sns.set(style=\"whitegrid\")\n",
    "\n",
    "plt.figure(figsize=(10, 6))\n",
    "\n",
    "\n",
    "plt.plot(x, pdf_exponential, label=\"Exp(2)\", color=\"tab:blue\")\n",
    "plt.title(\"PDF for Exp(2)\")\n",
    "plt.xlabel(\"Value\")\n",
    "plt.ylabel(\"Density\")\n",
    "\n",
    "a = np.linspace(1,2,1000)\n",
    "pdf_exponential_shaded = ss.expon.pdf(a,scale=0.5)\n",
    "plt.fill_between(a, pdf_exponential_shaded, color=\"tab:blue\", alpha=0.3)\n",
    "\n",
    "plt.figtext(0.5, -0.1, 'Probability of taking values between 1 and 2 is shaded', \n",
    "            wrap=True, horizontalalignment='center', fontsize=12)\n",
    "\n",
    "\n",
    "\n",
    "\n",
    "plt.show()"
   ]
  },
  {
   "cell_type": "markdown",
   "metadata": {},
   "source": [
    "To illustrate how a certain distribution depends on its parameters it can be nice to plot several probability density functions in the same family of in one plot. As an example below you may find plots of several $\\Gamma(\\alpha, \\lambda)$ distributions. "
   ]
  },
  {
   "cell_type": "code",
   "execution_count": null,
   "metadata": {},
   "outputs": [],
   "source": [
    "x = np.linspace(0, 20, 1000)\n",
    "\n",
    "sns.set(style=\"whitegrid\")\n",
    "plt.figure(figsize=(10, 6))\n",
    "\n",
    "\n",
    "for alpha in [0.5, 2, 5.75]:\n",
    "    for labda in [0.5,2]: \n",
    "        pdf_Gamma = ss.gamma.pdf(x,alpha, scale = 1/labda)\n",
    "        plt.plot(x, pdf_Gamma, label=f\"Gamma({alpha},{1/labda})\")\n",
    "\n",
    "\n",
    "plt.axis([0, 20, 0, 1.5])\n",
    "plt.title(\"PDFs for Gamma(alpha, lambda)\")\n",
    "plt.xlabel(\"Value\")\n",
    "plt.ylabel(\"Density\")\n",
    "plt.legend()\n",
    "\n",
    "plt.show()"
   ]
  },
  {
   "cell_type": "code",
   "execution_count": null,
   "metadata": {},
   "outputs": [],
   "source": [
    "def update_plot(alpha, labda):\n",
    "  x = np.linspace(0, 20, 1000)\n",
    "  sns.set(style=\"whitegrid\")\n",
    "  plt.figure(figsize=(10, 6))\n",
    "  pdf_Gamma = ss.gamma.pdf(x,alpha, scale = 1/labda)\n",
    "  plt.plot(x, pdf_Gamma)\n",
    "  plt.axis([0,20,0,3])\n",
    "  plt.title(f\"PDFs for Gamma({round(alpha,1)}, {round(labda,1)})\")\n",
    "  plt.xlabel(\"Value\")\n",
    "  plt.ylabel(\"Density\")\n",
    "  plt.show()\n",
    "    \n",
    "slider_alpha = widgets.FloatSlider(value=1.0, min=0.1, max=10, step=0.1, description='alpha:')\n",
    "slider_labda = widgets.FloatSlider(value=1.0, min=0.1, max=5.0, step=0.1, description='labda:')\n",
    "\n",
    "interactive_plot = interactive(update_plot, alpha=slider_alpha, labda=slider_labda)\n",
    "\n",
    "\n",
    "display(interactive_plot)"
   ]
  }
 ],
 "metadata": {
  "kernelspec": {
   "display_name": "Python 3 (ipykernel)",
   "language": "python",
   "name": "python3"
  },
  "language_info": {
   "codemirror_mode": {
    "name": "ipython",
    "version": 3
   },
   "file_extension": ".py",
   "mimetype": "text/x-python",
   "name": "python",
   "nbconvert_exporter": "python",
   "pygments_lexer": "ipython3",
   "version": "3.12.1"
  }
 },
 "nbformat": 4,
 "nbformat_minor": 2
}
