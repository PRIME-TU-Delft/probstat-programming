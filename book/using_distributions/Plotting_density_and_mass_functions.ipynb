{
 "cells": [
  {
   "cell_type": "markdown",
   "metadata": {},
   "source": [
    "# Plotting probability density, mass and cumulative distribution functions\n",
    "In order to get a good idea of what a given distribution is all about it can be helpful to visualize the probability density, mass and cumulative distribution functions. Below we start by plotting the probability density function for the $N(-1,4)$ distribution. "
   ]
  },
  {
   "cell_type": "code",
   "execution_count": null,
   "metadata": {
    "tags": [
     "thebe-remove-input-init"
    ]
   },
   "outputs": [],
   "source": [
    "import micropip\n",
    "await micropip.install('seaborn')\n",
    "await micropip.install('ipywidgets')"
   ]
  },
  {
   "cell_type": "code",
   "execution_count": null,
   "metadata": {},
   "outputs": [],
   "source": [
    "import numpy as np\n",
    "import seaborn as sns  \n",
    "import matplotlib.pyplot as plt\n",
    "import scipy.stats as ss\n",
    "import ipywidgets as widgets\n",
    "from ipywidgets import interactive"
   ]
  },
  {
   "cell_type": "code",
   "execution_count": null,
   "metadata": {},
   "outputs": [],
   "source": [
    "variance = 4 \n",
    "mean  = -1\n",
    "x = np.linspace(-7, 5, 1000)\n",
    "y = (1/np.sqrt(2*np.pi*variance))*np.exp(-0.5*((x-mean)**2)/variance)\n",
    "sns.set(style=\"whitegrid\")\n",
    "\n",
    "plt.figure(figsize=(10, 6))\n",
    "plt.plot(x, y, label=\"N(-1,4)\", color=\"tab:blue\")\n",
    "\n",
    "plt.title('N(-1,4) density function')\n",
    "plt.xlabel(\"Value\")\n",
    "plt.ylabel(\"Density\")\n",
    "\n",
    "\n",
    "plt.show()"
   ]
  },
  {
   "cell_type": "markdown",
   "metadata": {},
   "source": [
    "Above we entered the formula for the probability density function ourselves. This can be useful to consider distributions that are not often used. For instance consider the distribution with the probability density function as below. "
   ]
  },
  {
   "cell_type": "code",
   "execution_count": null,
   "metadata": {},
   "outputs": [],
   "source": [
    "x = np.linspace(-2, 2, 1000)\n",
    "y = np.sqrt(4-x**2)/(2*np.pi)\n",
    "sns.set(style=\"whitegrid\")\n",
    "\n",
    "plt.figure(figsize=(10, 6))\n",
    "plt.plot(x, y, color=\"tab:blue\")\n",
    "\n",
    "plt.title('Rarely used density function')\n",
    "plt.xlabel(\"Value\")\n",
    "plt.ylabel(\"Density\")\n",
    "\n",
    "\n",
    "\n",
    "plt.show()"
   ]
  },
  {
   "cell_type": "markdown",
   "metadata": {},
   "source": [
    "However, often used probability density functions can be imported from a library like scipy as well. "
   ]
  },
  {
   "cell_type": "code",
   "execution_count": null,
   "metadata": {},
   "outputs": [],
   "source": [
    "\n",
    "x = np.linspace(-5, 5, 1000)\n",
    "\n",
    "pdf_normal = ss.norm.pdf(x, loc=0, scale=1) \n",
    "pdf_exponential = ss.expon.pdf(x, scale=1)  \n",
    "pdf_uniform = ss.uniform.pdf(x, loc=-2, scale=4)  \n",
    "\n",
    "sns.set(style=\"whitegrid\")\n",
    "\n",
    "plt.figure(figsize=(25, 6))\n",
    "\n",
    "plt.subplot(1,3,1)\n",
    "plt.plot(x, pdf_normal, label=\"N(0,1)\", color=\"tab:blue\")\n",
    "plt.title(\"PDF for N(0,1)\")\n",
    "plt.xlabel(\"Value\")\n",
    "plt.ylabel(\"Density\")\n",
    "\n",
    "plt.subplot(1,3,2)\n",
    "plt.plot(x, pdf_exponential, label=\"Exp(1)\", color=\"tab:green\")\n",
    "\n",
    "plt.title(\"PDF for Exp(1)\")\n",
    "plt.xlabel(\"Value\")\n",
    "plt.ylabel(\"Density\")\n",
    "\n",
    "\n",
    "plt.subplot(1,3,3)\n",
    "plt.plot(x, pdf_uniform, label=\"U(-2,2)\", color=\"tab:orange\")\n",
    "\n",
    "plt.title(\"PDF for U(-2,2)\")\n",
    "plt.xlabel(\"Value\")\n",
    "plt.ylabel(\"Density\")\n",
    "\n",
    "\n",
    "\n",
    "\n",
    "plt.show()"
   ]
  },
  {
   "cell_type": "markdown",
   "metadata": {},
   "source": [
    "The area uder these curves gives us the probability so sometimes it can be nice to shade these regions. "
   ]
  },
  {
   "cell_type": "code",
   "execution_count": null,
   "metadata": {},
   "outputs": [],
   "source": [
    "\n",
    "\n",
    "x = np.linspace(-5, 5, 1000)\n",
    "\n",
    "pdf_exponential = ss.expon.pdf(x, scale=0.5)  \n",
    "\n",
    "sns.set(style=\"whitegrid\")\n",
    "\n",
    "plt.figure(figsize=(10, 6))\n",
    "\n",
    "\n",
    "plt.plot(x, pdf_exponential, label=\"Exp(2)\", color=\"tab:blue\")\n",
    "plt.title(\"PDF for Exp(2)\")\n",
    "plt.xlabel(\"Value\")\n",
    "plt.ylabel(\"Density\")\n",
    "\n",
    "a = np.linspace(1,2,1000)\n",
    "pdf_exponential_shaded = ss.expon.pdf(a,scale=0.5)\n",
    "plt.fill_between(a, pdf_exponential_shaded, color=\"tab:blue\", alpha=0.3)\n",
    "\n",
    "plt.figtext(0.5, -0.1, 'Probability of taking values between 1 and 2 is shaded', \n",
    "            wrap=True, horizontalalignment='center', fontsize=12)\n",
    "\n",
    "\n",
    "\n",
    "\n",
    "plt.show()"
   ]
  },
  {
   "cell_type": "markdown",
   "metadata": {},
   "source": [
    "To illustrate how a certain distribution depends on its parameters it can be nice to plot several probability density functions in the same family of in one plot. As an example below you may find plots of several $\\Gamma(\\alpha, \\lambda)$ distributions. "
   ]
  },
  {
   "cell_type": "code",
   "execution_count": null,
   "metadata": {},
   "outputs": [],
   "source": [
    "x = np.linspace(0, 20, 1000)\n",
    "\n",
    "sns.set(style=\"whitegrid\")\n",
    "plt.figure(figsize=(10, 6))\n",
    "\n",
    "\n",
    "for alpha in [0.5, 2, 5.75]:\n",
    "    for labda in [0.5,2]: \n",
    "        pdf_Gamma = ss.gamma.pdf(x,alpha, scale = 1/labda)\n",
    "        plt.plot(x, pdf_Gamma, label=f\"Gamma({alpha},{1/labda})\")\n",
    "\n",
    "\n",
    "plt.axis([0, 20, 0, 1.5])\n",
    "plt.title(\"PDFs for Gamma(alpha, lambda)\")\n",
    "plt.xlabel(\"Value\")\n",
    "plt.ylabel(\"Density\")\n",
    "plt.legend()\n",
    "\n",
    "plt.show()"
   ]
  },
  {
   "cell_type": "markdown",
   "metadata": {},
   "source": [
    "Another way to illustrate dependence on parameters is by plotting the function dynamically with sliders for the parameters as is done in the codeblock below."
   ]
  },
  {
   "cell_type": "code",
   "execution_count": null,
   "metadata": {},
   "outputs": [],
   "source": [
    "def update_plot(alpha, labda):\n",
    "  x = np.linspace(0, 20, 1000)\n",
    "  sns.set(style=\"whitegrid\")\n",
    "  plt.figure(figsize=(10, 6))\n",
    "  pdf_Gamma = ss.gamma.pdf(x,alpha, scale = 1/labda)\n",
    "  plt.plot(x, pdf_Gamma)\n",
    "  plt.axis([0,20,0,3])\n",
    "  plt.title(f\"PDFs for Gamma({round(alpha,1)}, {round(labda,1)})\")\n",
    "  plt.xlabel(\"Value\")\n",
    "  plt.ylabel(\"Density\")\n",
    "  plt.show()\n",
    "    \n",
    "slider_alpha = widgets.FloatSlider(value=1.0, min=0.1, max=30, step=0.1, description='alpha:')\n",
    "slider_labda = widgets.FloatSlider(value=1.0, min=0.1, max=5, step=0.01, description='labda:')\n",
    "\n",
    "interactive_plot = interactive(update_plot, alpha=slider_alpha, labda=slider_labda)\n",
    "\n",
    "\n",
    "interactive_plot"
   ]
  },
  {
   "cell_type": "markdown",
   "metadata": {},
   "source": [
    "Above we looked at probability density functions of continuous distributions, of course we can also consider discrete distributions and in this case we consider corresponding probability mass functions. Below we construct a plot of a probability mass function for a rather ad hoc discrete random variable. "
   ]
  },
  {
   "cell_type": "code",
   "execution_count": null,
   "metadata": {},
   "outputs": [],
   "source": [
    "x = [-1,1,3,7]\n",
    "p = [0.352,0.148,0.222,0.278]\n",
    "\n",
    "\n",
    "plt.figure(figsize=(10, 5))\n",
    "plt.vlines(x, 0, p)  \n",
    "plt.scatter(x, p)  \n",
    "plt.title(f\"PMF of ad hoc distribution\")\n",
    "plt.xlabel(\"Value\")\n",
    "plt.ylabel(\"Probability\")\n",
    "plt.grid(axis='y', linestyle='--', alpha=0.6)\n",
    "plt.show()\n",
    "\n"
   ]
  },
  {
   "cell_type": "markdown",
   "metadata": {},
   "source": [
    "As for the continuous case we can again call the functions of well-known distributions as well. "
   ]
  },
  {
   "cell_type": "code",
   "execution_count": null,
   "metadata": {},
   "outputs": [],
   "source": [
    "x = np.arange(0,20,1)\n",
    "\n",
    "pmf_binomial = ss.binom.pmf(x, n=15, p=0.4)\n",
    "pmf_geometric = ss.geom.pmf(x,p=0.4)  \n",
    "pmf_Poisson= ss.poisson.pmf(x,mu=7.23)  \n",
    "\n",
    "plt.figure(figsize=(25, 6))\n",
    "\n",
    "plt.subplot(1,3,1)\n",
    "plt.vlines(x, 0, pmf_binomial, color = 'tab:blue')  \n",
    "plt.scatter(x, pmf_binomial,color = 'tab:blue') \n",
    "plt.title(f\"PMF for Bin(15,0.4)\")\n",
    "plt.xlabel(\"Value\")\n",
    "plt.ylabel(\"Probability\")\n",
    "plt.grid(axis='y', linestyle='--', alpha=0.6)\n",
    "\n",
    "\n",
    "plt.subplot(1,3,2)\n",
    "plt.vlines(x, 0, pmf_geometric,color = 'tab:green')  \n",
    "plt.scatter(x, pmf_geometric,color = 'tab:green') \n",
    "plt.title(f\"PMF for Geo(0.4)\")\n",
    "plt.xlabel(\"Value\")\n",
    "plt.ylabel(\"Probability\")\n",
    "plt.grid(axis='y', linestyle='--', alpha=0.6)\n",
    "\n",
    "\n",
    "plt.subplot(1,3,3)\n",
    "plt.vlines(x, 0, pmf_Poisson,color = 'tab:orange')  \n",
    "plt.scatter(x, pmf_Poisson,color = 'tab:orange') \n",
    "plt.title(f\"PMF for Pois(7.23)\")\n",
    "plt.xlabel(\"Value\")\n",
    "plt.ylabel(\"Probability\")\n",
    "plt.grid(axis='y', linestyle='--', alpha=0.6)\n",
    "\n",
    "\n",
    "\n",
    "\n",
    "plt.show()"
   ]
  },
  {
   "cell_type": "markdown",
   "metadata": {},
   "source": [
    "The probabilities can be read of immediately from the plots in this case. Indeed they are the values on the y-axis. We can still investigate the dependence on parameters however. For instance by plotting the same distribution with different values of the parameters. "
   ]
  },
  {
   "cell_type": "code",
   "execution_count": null,
   "metadata": {},
   "outputs": [],
   "source": [
    "x = np.arange(0,30,1)\n",
    "\n",
    "\n",
    "plt.figure(figsize=(10, 6))\n",
    "\n",
    "\n",
    "for n in [5,23]:\n",
    "    for p in [0.1, 0.45, 0.78]: \n",
    "        pmf_binomial = ss.binom.pmf(x,n, p)\n",
    "        plt.vlines(x, 0, pmf_binomial)  \n",
    "        plt.scatter(x, pmf_binomial,label=f\"Bin({n},{p})\") \n",
    "\n",
    "\n",
    "\n",
    "plt.title(\"PMFs for Bin(n,p)\")\n",
    "plt.xlabel(\"Value\")\n",
    "plt.ylabel(\"Probability\")\n",
    "plt.legend()\n",
    "\n",
    "plt.show()"
   ]
  },
  {
   "cell_type": "markdown",
   "metadata": {},
   "source": [
    "For the case of probability mass functions this is a bit less useful, luckily we can gain opt for a slider based approach. "
   ]
  },
  {
   "cell_type": "code",
   "execution_count": null,
   "metadata": {},
   "outputs": [],
   "source": [
    "def update_plot(n, p):\n",
    "  x = np.arange(0,25,1)\n",
    "  plt.figure(figsize=(10, 6))\n",
    "  pmf_binomial = ss.binom.pmf(x,n,p)\n",
    "  plt.vlines(x, 0, pmf_binomial)  \n",
    "  plt.scatter(x, pmf_binomial) \n",
    "  plt.title(f\"PMFs for Bin({n}, {p})\")\n",
    "  plt.xlabel(\"Value\")\n",
    "  plt.ylabel(\"Probability\")\n",
    "  plt.show()\n",
    "    \n",
    "slider_n = widgets.FloatSlider(value=1.0, min=2, max=25, step=1, description='n:')\n",
    "slider_p = widgets.FloatSlider(value=0.5, min=0.01, max=1, step=0.01, description='p:')\n",
    "\n",
    "interactive_plot = interactive(update_plot, n=slider_n, p=slider_p)\n",
    "\n",
    "\n",
    "interactive_plot"
   ]
  }
 ],
 "metadata": {
  "kernelspec": {
   "display_name": "Python 3",
   "language": "python",
   "name": "python3"
  },
  "language_info": {
   "codemirror_mode": {
    "name": "ipython",
    "version": 3
   },
   "file_extension": ".py",
   "mimetype": "text/x-python",
   "name": "python",
   "nbconvert_exporter": "python",
   "pygments_lexer": "ipython3",
   "version": "3.11.4"
  }
 },
 "nbformat": 4,
 "nbformat_minor": 2
}
