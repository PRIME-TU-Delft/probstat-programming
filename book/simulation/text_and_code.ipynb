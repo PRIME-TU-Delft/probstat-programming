{
 "cells": [
  {
   "cell_type": "markdown",
   "metadata": {},
   "source": [
    "# Text and code\n",
    "\n",
    "In order to investigate randomness it is crucial that we are able to simulate random variables. In this section we will start simulating random variables in python. The most basic building blocks are uniform random variables. We will gloss over the mechanics of how such random number generators are produced and simply call them. Below is our first simulated $X\\sim U(0,1)$ random variable. \n"
   ]
  },
  {
   "cell_type": "code",
   "execution_count": 14,
   "metadata": {},
   "outputs": [],
   "source": [
    "import numpy as np\n"
   ]
  },
  {
   "cell_type": "code",
   "execution_count": 15,
   "metadata": {},
   "outputs": [
    {
     "data": {
      "text/plain": [
       "0.9753473904096611"
      ]
     },
     "execution_count": 15,
     "metadata": {},
     "output_type": "execute_result"
    }
   ],
   "source": [
    "X = np.random.uniform()\n",
    "\n",
    "X"
   ]
  },
  {
   "cell_type": "markdown",
   "metadata": {},
   "source": [
    "The function np.random.uniform can be supplied two parameters, a lower limit and an upper limit, which are by default set to $0$ and $1$. Above you can enter these parameter to produce instead a uniformly distributed real number between for instance $-1$ and $4$ by entering $-1, 4$ in the brackets. \n",
    "\n",
    "We can use this uniformly distributed random variable to simulate various other distributions. For instance we may simulate a six sided die:"
   ]
  },
  {
   "cell_type": "markdown",
   "metadata": {},
   "source": []
  },
  {
   "cell_type": "code",
   "execution_count": 16,
   "metadata": {},
   "outputs": [
    {
     "data": {
      "text/plain": [
       "1"
      ]
     },
     "execution_count": 16,
     "metadata": {},
     "output_type": "execute_result"
    }
   ],
   "source": [
    "X = int(np.floor(np.random.uniform(1,7)))\n",
    "\n",
    "X\n"
   ]
  },
  {
   "cell_type": "markdown",
   "metadata": {},
   "source": [
    "Indeed in the code above we randomly generate a uniformly distributed number between 1 and 7 then round down to the nearest integer, which produces a(n ideal) die. You may want to try to change the code to simulate a $4$ or $8$ sided die. \n",
    "\n",
    "Very often we will need to simulate not one die, but many dice at the same time. The third parameter of the uniform distribution is the size. We may use this parameter to produce an array of many random numbers at once. Each random number is independently uniformly distributed. "
   ]
  },
  {
   "cell_type": "code",
   "execution_count": 17,
   "metadata": {},
   "outputs": [
    {
     "name": "stdout",
     "output_type": "stream",
     "text": [
      "[1 4 3 6 6 1 3 1 2 4]\n"
     ]
    }
   ],
   "source": [
    "X = np.floor(np.random.uniform(1,7,10))\n",
    "\n",
    "print(X.astype('int32'))"
   ]
  },
  {
   "cell_type": "markdown",
   "metadata": {},
   "source": [
    "As a check we may consider the relative frequency of each number when we throw many six sided dice. In the following we first define rolling some number of dice as a function for future use. Then we check whether the relative frequency is $\\frac{1}{6}=0.1666\\ldots$ for each outcome. "
   ]
  },
  {
   "cell_type": "code",
   "execution_count": 18,
   "metadata": {},
   "outputs": [
    {
     "name": "stdout",
     "output_type": "stream",
     "text": [
      "Proportion of times we rolled a 1: 0.166241\n",
      "Proportion of times we rolled a 2: 0.166487\n",
      "Proportion of times we rolled a 3: 0.16671\n",
      "Proportion of times we rolled a 4: 0.16667\n",
      "Proportion of times we rolled a 5: 0.16727\n",
      "Proportion of times we rolled a 6: 0.166622\n"
     ]
    }
   ],
   "source": [
    "def dice(sides = 6, n = 1):\n",
    "    return np.floor(np.random.uniform(1,sides+1,n))\n",
    "\n",
    "\n",
    "n=1000000\n",
    "x = dice(n=n)\n",
    "for i in range(1,7): \n",
    "    print(\"Proportion of times we rolled a \" + str(i)+\": \" + str(np.count_nonzero(x==i)/n))\n",
    "\n",
    "    \n",
    "    "
   ]
  },
  {
   "cell_type": "markdown",
   "metadata": {},
   "source": [
    "Finally we can now also continue and simulate not just individual die rolls, but also sums of die rolls leading to simulations of non-uniformly distributed random variables. For example below we simulate many rolls of a pair of $4$ sided die rolls and check that we obtain the expected distribution of sums. "
   ]
  },
  {
   "cell_type": "code",
   "execution_count": 19,
   "metadata": {},
   "outputs": [
    {
     "name": "stdout",
     "output_type": "stream",
     "text": [
      "Proportion of times we rolled a 2: 0\n",
      "Proportion of times we rolled a 3: 0\n",
      "Proportion of times we rolled a 4: 0\n",
      "Proportion of times we rolled a 5: 0\n",
      "Proportion of times we rolled a 6: 0\n",
      "Proportion of times we rolled a 7: 0\n",
      "Proportion of times we rolled a 8: 0\n"
     ]
    }
   ],
   "source": [
    "def sumdice(sides = 6, n=1, ndice=2):\n",
    "    return [int(sum(dice(sides, ndice))) for i in range(n)]\n",
    "\n",
    "n=10000\n",
    "x = sumdice(4,n)\n",
    "for i in range(2,9):\n",
    "    print(\"Proportion of times we rolled a \" + str(i)+\": \" + str(np.count_nonzero(x==i)))\n",
    "    \n",
    "    \n",
    "    \n",
    "    \n",
    "    \n",
    "    \n",
    "    \n",
    "    \n",
    "    \n"
   ]
  }
 ],
 "metadata": {
  "kernelspec": {
   "display_name": "Python 3 (ipykernel)",
   "language": "python",
   "name": "python3"
  },
  "language_info": {
   "codemirror_mode": {
    "name": "ipython",
    "version": 3
   },
   "file_extension": ".py",
   "mimetype": "text/x-python",
   "name": "python",
   "nbconvert_exporter": "python",
   "pygments_lexer": "ipython3",
   "version": "3.12.1"
  }
 },
 "nbformat": 4,
 "nbformat_minor": 2
}
