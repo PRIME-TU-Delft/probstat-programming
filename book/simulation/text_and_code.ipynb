{
 "cells": [
  {
   "cell_type": "markdown",
   "metadata": {},
   "source": [
    "# Simulating dice\n",
    "Simulating random variables enables us to model uncertainty and variability in real-world systems and allows us to investigate randomness. In this section we will start simulating random variables in Python."
   ]
  },
  {
   "cell_type": "code",
   "execution_count": null,
   "metadata": {},
   "outputs": [],
   "source": [
    "import numpy as np\n",
    "\n",
    "# If you want to be able to generate the same numbers every time, you can set a seed below\n",
    "# np.random.seed(42)"
   ]
  },
  {
   "cell_type": "markdown",
   "metadata": {},
   "source": [
    " The most basic building blocks are uniform random variables. We will gloss over the mechanics of how random number generators are produced and simply call them. Below is our first simulated $X\\sim U(0,1)$ random variable. "
   ]
  },
  {
   "cell_type": "code",
   "execution_count": null,
   "metadata": {},
   "outputs": [],
   "source": [
    "X = np.random.uniform()\n",
    "\n",
    "X"
   ]
  },
  {
   "cell_type": "markdown",
   "metadata": {},
   "source": [
    "The function np.random.uniform can be supplied two parameters, a lower limit and an upper limit, which are by default set to $0$ and $1$. Above you can enter these parameter to produce instead a uniformly distributed real number between for instance $-1$ and $4$ by entering $-1, 4$ in the brackets. \n",
    "\n",
    "We can use this uniformly distributed random variable to simulate various other distributions. For instance we may simulate a six sided die:"
   ]
  },
  {
   "cell_type": "code",
   "execution_count": null,
   "metadata": {},
   "outputs": [],
   "source": [
    "X = int(np.random.uniform(1,7))\n",
    "\n",
    "X"
   ]
  },
  {
   "cell_type": "markdown",
   "metadata": {},
   "source": [
    "Indeed in the code above we randomly generate a uniformly distributed number between 1 and 7 then round down to the nearest integer, which produces a(n ideal) die. You may want to try to change the code to simulate a $4$ or $8$ sided die. \n",
    "\n",
    "Very often we will need to simulate not one die, but many dice at the same time. The third parameter of the uniform distribution is the size. We may use this parameter to produce an array of many random numbers at once. Each random number is independently uniformly distributed. "
   ]
  },
  {
   "cell_type": "code",
   "execution_count": null,
   "metadata": {},
   "outputs": [],
   "source": [
    "X = np.random.uniform(1,7,10).astype(int)\n",
    "\n",
    "X"
   ]
  },
  {
   "cell_type": "markdown",
   "metadata": {},
   "source": [
    "As a check we may consider the relative frequency of each number when we throw many six sided dice. In the following we first define rolling some number of dice as a function for future use. Then we check whether the relative frequency is $\\frac{1}{6}=0.1666\\ldots$ for each outcome. "
   ]
  },
  {
   "cell_type": "code",
   "execution_count": null,
   "metadata": {},
   "outputs": [],
   "source": [
    "# Simulates throwing a specified number of dice with a specified number of sides returning the outcomes as integers.\n",
    "def throw_dice(n_sides = 6, n_dice = 1):\n",
    "    return np.random.uniform(1, n_sides + 1, n_dice).astype(int)\n",
    "\n",
    "n_dice = 100000\n",
    "n_sides = 6\n",
    "dice_throws = throw_dice(n_sides, n_dice)\n",
    "\n",
    "for i in range(1, n_sides + 1): \n",
    "    print(f\"Proportion of times we rolled a {i}: {np.count_nonzero(dice_throws==i)/n_dice:.3f}\")"
   ]
  },
  {
   "cell_type": "markdown",
   "metadata": {},
   "source": [
    "Finally we can now simulate not just individual die rolls, but also sums of die rolls leading to simulations of non-uniformly distributed random variables. For example below we simulate many rolls of a pair of $4$ sided die rolls and check that we obtain the expected distribution of sums. "
   ]
  },
  {
   "cell_type": "code",
   "execution_count": null,
   "metadata": {},
   "outputs": [],
   "source": [
    "# Simulate rounds of dice throws and return an array with the sum of outcomes for each round.\n",
    "def throw_and_sum_dice(n_sides = 6, n_throws = 1, n_dice_per_throw = 2):\n",
    "    return np.sum(throw_dice(n_sides, (n_throws, n_dice_per_throw)), axis = 1)\n",
    "\n",
    "n_sides = 4\n",
    "n_throws = 100000\n",
    "n_dice_per_throw = 2\n",
    "summed_dice_throws = throw_and_sum_dice(n_sides, n_throws, n_dice_per_throw)\n",
    "\n",
    "for i in range(n_dice_per_throw, n_dice_per_throw * n_sides + 1):\n",
    "    print(f\"Proportion of times we rolled a {i}: {np.count_nonzero(summed_dice_throws==i)/n_throws:.3f}\")"
   ]
  },
  {
   "cell_type": "code",
   "execution_count": null,
   "metadata": {},
   "outputs": [],
   "source": []
  }
 ],
 "metadata": {
  "kernelspec": {
   "display_name": "Python 3 (ipykernel)",
   "language": "python",
   "name": "python3"
  }
 },
 "nbformat": 4,
 "nbformat_minor": 2
}
