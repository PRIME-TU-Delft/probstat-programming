{
 "cells": [
  {
   "cell_type": "markdown",
   "metadata": {},
   "source": [
    "# Simulating other Variables\n",
    "For now we have simulated uniformly and according to some set finite sequence of probabilities. It is also possible to obtain other distributions by transforming a uniform random variable. In fact we already did this for the dice example earlier. As a first example let's consider a random variable U2 that is distributed like the square of a normally distributed random variable. In this example we use a kernel density estimate instead of a regular histogram in order to obtain a smoothed out plot. "
   ]
  },
  {
   "cell_type": "code",
   "execution_count": null,
   "metadata": {
    "tags": [
     "thebe-remove-input-init"
    ]
   },
   "outputs": [],
   "source": [
    "import micropip\n",
    "await micropip.install('seaborn')"
   ]
  },
  {
   "cell_type": "code",
   "execution_count": null,
   "metadata": {},
   "outputs": [],
   "source": [
    "import numpy as np\n",
    "import seaborn as sns\n",
    "import matplotlib.pyplot as plt\n",
    "import scipy as sp\n"
   ]
  },
  {
   "cell_type": "code",
   "execution_count": null,
   "metadata": {},
   "outputs": [],
   "source": [
    "U2 = np.random.uniform(size = 10000)**2\n",
    "\n",
    "sns.kdeplot(U2, bw_adjust=.25)\n",
    "plt.show()\n",
    "\n"
   ]
  },
  {
   "cell_type": "markdown",
   "metadata": {},
   "source": [
    "Similarly we can simulate random variables with other known distributions, for instance we know that if $U\\sim U(0,1)$ then  $\\frac{-\\ln(1-U)}{\\lambda}$ follows an $\\text{Exp}(\\lambda)$ distribution. Indeed you may check this by computing the relevant distribution function. So we may simulate an exponentially distributed random variable as below.  "
   ]
  },
  {
   "cell_type": "code",
   "execution_count": null,
   "metadata": {},
   "outputs": [],
   "source": [
    "E3 = -np.log(1-np.random.uniform(size=10000))/3\n",
    "\n",
    "sns.kdeplot(E3, bw_adjust=.25)\n",
    "plt.show()"
   ]
  },
  {
   "cell_type": "markdown",
   "metadata": {},
   "source": [
    "Similary we can find that $(1-U)^{-\\frac{1}{\\alpha}}$ follows a $\\text{Par}(\\alpha, 1)$ distribution."
   ]
  },
  {
   "cell_type": "code",
   "execution_count": null,
   "metadata": {},
   "outputs": [],
   "source": [
    "Par4 = (1-np.random.uniform(size=1000))**(-1/4)\n",
    "\n",
    "sns.kdeplot(Par4, bw_adjust=.25)\n",
    "plt.show()"
   ]
  },
  {
   "cell_type": "markdown",
   "metadata": {},
   "source": [
    "For some of the most used distributions it would be a hassle to have to go through the process of figuring out how to transform the uniform distribution each time. For this reason they are callable directly as you can see below for the exponential, binomial and normal distributions. Have a look at the documentation of these to find out how to enter the parameters. For instance for to get an $\\text{Exp}(3)$ distribution below we enter the parameter $\\frac{1}{3}$ and for the normal distribution we enter the standard deviation as a parameter instead of the variance. "
   ]
  },
  {
   "cell_type": "code",
   "execution_count": null,
   "metadata": {},
   "outputs": [],
   "source": [
    "E3 = np.random.exponential(1/3, 1000)\n",
    "B_20_third = np.random.binomial(20,1/3,1000)\n",
    "Nminus14=np.random.normal(-1, 2, 1000)\n",
    "\n",
    "\n",
    "plt.figure(figsize=(15, 5))\n",
    "\n",
    "\n",
    "plt.subplot(1, 3, 1)\n",
    "sns.kdeplot(E3, bw_adjust=0.25)\n",
    "\n",
    "\n",
    "\n",
    "plt.subplot(1, 3, 2)\n",
    "sns.histplot(B_20_third, stat = 'proportion', binwidth = 1)\n",
    "\n",
    "\n",
    "plt.subplot(1, 3, 3)\n",
    "sns.kdeplot(Nminus14)\n",
    "\n",
    "plt.tight_layout()\n",
    "plt.show()"
   ]
  },
  {
   "cell_type": "markdown",
   "metadata": {},
   "source": [
    "The pictures generated here show the simulated values. For reference here is a plot comparing them to the relevant probability density functions and probability mass function. "
   ]
  },
  {
   "cell_type": "code",
   "execution_count": null,
   "metadata": {},
   "outputs": [],
   "source": [
    "E3 = np.random.exponential(1/3, 1000)\n",
    "B_20_third = np.random.binomial(20,1/3,1000)\n",
    "Nminus14=np.random.normal(-1, 2, 1000)\n",
    "\n",
    "\n",
    "plt.figure(figsize=(15, 5))\n",
    "\n",
    "\n",
    "plt.subplot(1, 3, 1)\n",
    "sns.kdeplot(E3, bw_adjust=0.25)\n",
    "x = np.linspace(0, 2, 500) \n",
    "y = 3*np.exp(-3*x)\n",
    "plt.plot(x,y)\n",
    "\n",
    "\n",
    "\n",
    "plt.subplot(1, 3, 2)\n",
    "sns.histplot(B_20_third, stat = 'proportion', binwidth = 1)\n",
    "x = np.linspace(0,20,21)\n",
    "y = sp.special.binom(20,x)*((1/3)**x)*(2/3)**(20-x)\n",
    "plt.scatter(x,y)\n",
    "\n",
    "plt.subplot(1, 3, 3)\n",
    "sns.kdeplot(Nminus14)\n",
    "x = np.linspace(-8, 8, 500) \n",
    "y = (1/np.sqrt(2*np.pi*4))*np.exp(-0.5*(x+1)*(x+1)/4)\n",
    "plt.plot(x,y)\n",
    "\n",
    "plt.tight_layout()\n",
    "plt.show()"
   ]
  }
 ],
 "metadata": {
  "kernelspec": {
   "display_name": "Python 3 (ipykernel)",
   "language": "python",
   "name": "python3"
  },
  "language_info": {
   "codemirror_mode": {
    "name": "ipython",
    "version": 3
   },
   "file_extension": ".py",
   "mimetype": "text/x-python",
   "name": "python",
   "nbconvert_exporter": "python",
   "pygments_lexer": "ipython3",
   "version": "3.12.1"
  }
 },
 "nbformat": 4,
 "nbformat_minor": 2
}
