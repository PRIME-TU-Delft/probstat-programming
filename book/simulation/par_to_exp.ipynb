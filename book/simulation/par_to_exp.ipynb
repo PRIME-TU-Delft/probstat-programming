{
 "cells": [
  {
   "cell_type": "markdown",
   "metadata": {},
   "source": [
    "# From Pareto to Exponential Distributions\n",
    "So far, we have learned how to simulate various probability distributions starting from uniform random variables or using built-in distribution generators. But what if we start from a distribution that is *not* uniform?\n",
    "\n",
    "Consider a real-world example: earthquakes. We will focus on the relation between the energy and the magnitude of earthquakes. The **energy** released by an earthquake follows a **Pareto distribution**—that means big, high-energy earthquakes are rare, while small ones are much more common. However, the **magnitude** of an earthquake (what you see reported in the news) is **exponentially distributed**.\n",
    "\n",
    "In this section, we will simulate earthquake energies using the Pareto distribution, then convert those into magnitudes using the exponential relationship between the two. We will plot both distributions and plot these against their probability density functions, using normalised histograms—no kernel density estimation."
   ]
  },
  {
   "cell_type": "code",
   "execution_count": null,
   "metadata": {
    "tags": [
     "thebe-remove-input-init"
    ]
   },
   "outputs": [],
   "source": [
    "import micropip\n",
    "\n",
    "\n",
    "\n",
    "await micropip.install(\"seaborn\")"
   ]
  },
  {
   "cell_type": "code",
   "execution_count": null,
   "metadata": {},
   "outputs": [],
   "source": [
    "import numpy as np\n",
    "import seaborn as sns\n",
    "import matplotlib.pyplot as plt"
   ]
  },
  {
   "cell_type": "code",
   "execution_count": null,
   "metadata": {},
   "outputs": [],
   "source": [
    "# please see the numpy documentation to see how the pareto random variable works in numpy\n",
    "energy_in_tons_TNT = np.random.pareto(200 / 199, 1000) + 1\n",
    "\n",
    "# relationship between energy and magnitude in Richter scale is a bit different, but not the point here\n",
    "magnitude = np.log10(energy_in_tons_TNT)\n",
    "\n",
    "\n",
    "plt.figure(figsize=(15, 5))\n",
    "\n",
    "plt.subplot(1, 2, 1)\n",
    "sns.histplot(energy_in_tons_TNT, stat=\"density\", binwidth=1)\n",
    "x = np.linspace(1, 250, 1000)\n",
    "y = (200 / 199) * (1 / x) ** (399 / 199)\n",
    "plt.plot(x, y, color=\"tab:orange\")\n",
    "\n",
    "plt.subplot(1, 2, 2)\n",
    "sns.histplot(magnitude, stat=\"density\")\n",
    "x = np.linspace(0, 4, 1000)\n",
    "y = (200 / 199) * np.log(10) * 10 ** (-x * (200 / 199))\n",
    "plt.plot(x, y, color=\"tab:orange\")\n",
    "\n",
    "\n",
    "plt.tight_layout()\n",
    "plt.show()"
   ]
  },
  {
   "cell_type": "code",
   "execution_count": null,
   "metadata": {},
   "outputs": [],
   "source": [
    "# Sample data - please see the numpy documentation to see how the pareto random variable works in numpy\n",
    "sample_size = 1000\n",
    "energy = np.random.pareto(200 / 199, size=sample_size) + 1\n",
    "\n",
    "# The energy to magnitude conversion is simplified, in Richter scale it is a slightly different\n",
    "magnitude = np.log10(energy)\n",
    "\n",
    "\n",
    "# Probability Density Functions\n",
    "x_energy = np.linspace(1, 250, 1000)\n",
    "y_energy = (200 / 199) * (1 / x_energy) ** (399 / 199)\n",
    "\n",
    "x_magnitude = np.linspace(0, 4, 1000)\n",
    "y_magnitude = (200 / 199) * np.log(10) * 10 ** (-x_magnitude * (200 / 199))\n",
    "\n",
    "\n",
    "# Plot\n",
    "fig, axes = plt.subplots(1, 2, figsize=(12, 5))\n",
    "\n",
    "# Energy plot\n",
    "sns.histplot(energy, bins=100, stat=\"density\", ax=axes[0], label=\"Sample data\")\n",
    "axes[0].plot(x_energy, y_energy, color=\"orange\", label=\"PDF\")\n",
    "axes[0].set_title(\"Pareto-Distributed Earthquake Energy\")\n",
    "axes[0].set_xlabel(\"Energy in tonnes TNT\")\n",
    "axes[0].set_ylabel(\"Density\")\n",
    "axes[0].legend()\n",
    "\n",
    "# Magnitude plot\n",
    "sns.histplot(magnitude, bins=100, stat=\"density\", ax=axes[1], label=\"Sample data\")\n",
    "axes[1].plot(x_magnitude, y_magnitude, color=\"orange\", label=\"PDF\")\n",
    "axes[1].set_title(\"Exponentially-Distributed Earthquake Magnitude\")\n",
    "axes[1].set_xlabel(\"Magnitude\")\n",
    "axes[1].set_ylabel(\"Density\")\n",
    "axes[1].legend()\n",
    "\n",
    "plt.tight_layout()\n",
    "plt.show()"
   ]
  }
 ],
 "metadata": {
  "kernelspec": {
   "display_name": "Python 3",
   "language": "python",
   "name": "python3"
  },
  "language_info": {
   "codemirror_mode": {
    "name": "ipython",
    "version": 3
   },
   "file_extension": ".py",
   "mimetype": "text/x-python",
   "name": "python",
   "nbconvert_exporter": "python",
   "pygments_lexer": "ipython3",
   "version": "3.11.5"
  }
 },
 "nbformat": 4,
 "nbformat_minor": 2
}
