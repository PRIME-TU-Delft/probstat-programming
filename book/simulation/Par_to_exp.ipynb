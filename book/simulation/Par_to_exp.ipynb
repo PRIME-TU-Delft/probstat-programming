{
 "cells": [
  {
   "cell_type": "markdown",
   "metadata": {},
   "source": [
    "# Pareto to Exponential Distribution\n",
    "We have covered simulating various distributions based on a uniform distribution and several other preprogrammed distributions. Of course we can also simulate different distributions based on non-uniformly distributed variables. As an example we consider the relationship between energy and magnitude of earthquakes. It turns out that the energy released by an earthquake follows a Pareto distribution. So higher energy earthquakes are more rare than lower energy earthquakes. The magnitude of an earthquake however is exponentially distributed. We simulate the energy of earthquakes together with their magnitudes and plot these against the relevant probability density functions. In this case we use normalized histograms (and not kernel density estimates). \n"
   ]
  },
  {
   "cell_type": "code",
   "execution_count": null,
   "metadata": {
    "tags": [
     "thebe-remove-input-init"
    ]
   },
   "outputs": [],
   "source": [
    "import micropip\n",
    "\n",
    "await micropip.install(\"seaborn\")"
   ]
  },
  {
   "cell_type": "code",
   "execution_count": null,
   "metadata": {},
   "outputs": [],
   "source": [
    "import numpy as np\n",
    "import seaborn as sns\n",
    "import matplotlib.pyplot as plt"
   ]
  },
  {
   "cell_type": "code",
   "execution_count": null,
   "metadata": {},
   "outputs": [],
   "source": [
    "energy_in_tons_TNT = (\n",
    "    np.random.pareto(200 / 199, 1000) + 1\n",
    ")  # please see the numpy documentation to see how the pareto random variable works in numpy\n",
    "magnitude = np.log10(\n",
    "    energy_in_tons_TNT\n",
    ")  # relationship between energy and magnitude in Richter scale is a bit different, but not the point here\n",
    "\n",
    "plt.figure(figsize=(15, 5))\n",
    "\n",
    "plt.subplot(1, 2, 1)\n",
    "sns.histplot(energy_in_tons_TNT, stat=\"density\", binwidth=1)\n",
    "x = np.linspace(1, 250, 10000)\n",
    "y = (200 / 199) * (1 / x) ** (399 / 199)\n",
    "plt.plot(x, y, color=\"tab:orange\")\n",
    "\n",
    "plt.subplot(1, 2, 2)\n",
    "sns.histplot(magnitude, stat=\"density\")\n",
    "x = np.linspace(0, 4, 1000)\n",
    "y = (200 / 199) * np.log(10) * 10 ** (-x * (200 / 199))\n",
    "plt.plot(x, y, color=\"tab:orange\")\n",
    "\n",
    "plt.tight_layout()\n",
    "plt.show()"
   ]
  }
 ],
 "metadata": {
  "kernelspec": {
   "display_name": "Python 3",
   "language": "python",
   "name": "python3"
  },
  "language_info": {
   "codemirror_mode": {
    "name": "ipython",
    "version": 3
   },
   "file_extension": ".py",
   "mimetype": "text/x-python",
   "name": "python",
   "nbconvert_exporter": "python",
   "pygments_lexer": "ipython3",
   "version": "3.11.5"
  }
 },
 "nbformat": 4,
 "nbformat_minor": 2
}
