{
 "cells": [
  {
   "cell_type": "markdown",
   "metadata": {},
   "source": [
    "# Birth Month Simulation\n",
    "\n",
    "We can use the built in random choice feature of numpy to simulate non-uniformly distributed events. For instance below we consider the situation where we want to simulate the choice of a costumer at a chips shop. The costumer can chooce to have mayonaise, ketchup, curry or peanut sauce on their chips. We simulate the choice the costumer makes by assigning each choice a certain probability. "
   ]
  },
  {
   "cell_type": "code",
   "execution_count": null,
   "metadata": {},
   "outputs": [],
   "source": [
    "import numpy as np"
   ]
  },
  {
   "cell_type": "code",
   "execution_count": null,
   "metadata": {},
   "outputs": [
    {
     "name": "stdout",
     "output_type": "stream",
     "text": [
      "mayonaise\n"
     ]
    }
   ],
   "source": [
    "X = ['mayonaise', 'ketchup', 'curry', 'peanut sauce']\n",
    "p = [0.6,0.1, 0.15, 0.15]\n",
    "C = np.random.choice(X,p=p)\n",
    "print(C)"
   ]
  },
  {
   "cell_type": "markdown",
   "metadata": {},
   "source": [
    "Now let's consider simulation of the birth months. So we will simulate a classroom of people together with their birth months. We use three different models for the birth months distributions. Namely, the uniform distribution over months, a uniform model over days that does not take leap days into account and a uniform model over days that does take leap days into account. "
   ]
  },
  {
   "cell_type": "code",
   "execution_count": null,
   "metadata": {},
   "outputs": [
    {
     "name": "stderr",
     "output_type": "stream",
     "text": [
      "<>:7: SyntaxWarning: 'int' object is not callable; perhaps you missed a comma?\n",
      "<>:7: SyntaxWarning: 'int' object is not callable; perhaps you missed a comma?\n",
      "/tmp/ipykernel_3691/364558289.py:7: SyntaxWarning: 'int' object is not callable; perhaps you missed a comma?\n",
      "  pwithleapdays = [4*31/(4*365+1), (4*28+1)/(4*365+1), 4*31/(4*365+1), 4*30/(4*365+1), 4*31/(4*365+1), 4*30/(4*365+1), 4*31/(4*365+1), 4*31/(4*365+1), 4*30/(4*365+1), 4*31/3(4*365+1), 4*30/(4*365+1), 4*31/(4*365+1)]\n"
     ]
    },
    {
     "ename": "TypeError",
     "evalue": "'int' object is not callable",
     "output_type": "error",
     "traceback": [
      "\u001b[0;31m---------------------------------------------------------------------------\u001b[0m",
      "\u001b[0;31mTypeError\u001b[0m                                 Traceback (most recent call last)",
      "Cell \u001b[0;32mIn[16], line 7\u001b[0m\n\u001b[1;32m      5\u001b[0m pnoleapdays \u001b[38;5;241m=\u001b[39m [\u001b[38;5;241m31\u001b[39m\u001b[38;5;241m/\u001b[39m\u001b[38;5;241m365\u001b[39m, \u001b[38;5;241m28\u001b[39m\u001b[38;5;241m/\u001b[39m\u001b[38;5;241m365\u001b[39m, \u001b[38;5;241m31\u001b[39m\u001b[38;5;241m/\u001b[39m\u001b[38;5;241m365\u001b[39m, \u001b[38;5;241m30\u001b[39m\u001b[38;5;241m/\u001b[39m\u001b[38;5;241m365\u001b[39m, \u001b[38;5;241m31\u001b[39m\u001b[38;5;241m/\u001b[39m\u001b[38;5;241m365\u001b[39m, \u001b[38;5;241m30\u001b[39m\u001b[38;5;241m/\u001b[39m\u001b[38;5;241m365\u001b[39m, \u001b[38;5;241m31\u001b[39m\u001b[38;5;241m/\u001b[39m\u001b[38;5;241m365\u001b[39m, \u001b[38;5;241m31\u001b[39m\u001b[38;5;241m/\u001b[39m\u001b[38;5;241m365\u001b[39m, \u001b[38;5;241m30\u001b[39m\u001b[38;5;241m/\u001b[39m\u001b[38;5;241m365\u001b[39m, \u001b[38;5;241m31\u001b[39m\u001b[38;5;241m/\u001b[39m\u001b[38;5;241m365\u001b[39m, \u001b[38;5;241m30\u001b[39m\u001b[38;5;241m/\u001b[39m\u001b[38;5;241m365\u001b[39m, \u001b[38;5;241m31\u001b[39m\u001b[38;5;241m/\u001b[39m\u001b[38;5;241m365\u001b[39m]\n\u001b[1;32m      6\u001b[0m pnoleapdays\n\u001b[0;32m----> 7\u001b[0m pwithleapdays \u001b[38;5;241m=\u001b[39m [\u001b[38;5;241m4\u001b[39m\u001b[38;5;241m*\u001b[39m\u001b[38;5;241m31\u001b[39m\u001b[38;5;241m/\u001b[39m(\u001b[38;5;241m4\u001b[39m\u001b[38;5;241m*\u001b[39m\u001b[38;5;241m365\u001b[39m\u001b[38;5;241m+\u001b[39m\u001b[38;5;241m1\u001b[39m), (\u001b[38;5;241m4\u001b[39m\u001b[38;5;241m*\u001b[39m\u001b[38;5;241m28\u001b[39m\u001b[38;5;241m+\u001b[39m\u001b[38;5;241m1\u001b[39m)\u001b[38;5;241m/\u001b[39m(\u001b[38;5;241m4\u001b[39m\u001b[38;5;241m*\u001b[39m\u001b[38;5;241m365\u001b[39m\u001b[38;5;241m+\u001b[39m\u001b[38;5;241m1\u001b[39m), \u001b[38;5;241m4\u001b[39m\u001b[38;5;241m*\u001b[39m\u001b[38;5;241m31\u001b[39m\u001b[38;5;241m/\u001b[39m(\u001b[38;5;241m4\u001b[39m\u001b[38;5;241m*\u001b[39m\u001b[38;5;241m365\u001b[39m\u001b[38;5;241m+\u001b[39m\u001b[38;5;241m1\u001b[39m), \u001b[38;5;241m4\u001b[39m\u001b[38;5;241m*\u001b[39m\u001b[38;5;241m30\u001b[39m\u001b[38;5;241m/\u001b[39m(\u001b[38;5;241m4\u001b[39m\u001b[38;5;241m*\u001b[39m\u001b[38;5;241m365\u001b[39m\u001b[38;5;241m+\u001b[39m\u001b[38;5;241m1\u001b[39m), \u001b[38;5;241m4\u001b[39m\u001b[38;5;241m*\u001b[39m\u001b[38;5;241m31\u001b[39m\u001b[38;5;241m/\u001b[39m(\u001b[38;5;241m4\u001b[39m\u001b[38;5;241m*\u001b[39m\u001b[38;5;241m365\u001b[39m\u001b[38;5;241m+\u001b[39m\u001b[38;5;241m1\u001b[39m), \u001b[38;5;241m4\u001b[39m\u001b[38;5;241m*\u001b[39m\u001b[38;5;241m30\u001b[39m\u001b[38;5;241m/\u001b[39m(\u001b[38;5;241m4\u001b[39m\u001b[38;5;241m*\u001b[39m\u001b[38;5;241m365\u001b[39m\u001b[38;5;241m+\u001b[39m\u001b[38;5;241m1\u001b[39m), \u001b[38;5;241m4\u001b[39m\u001b[38;5;241m*\u001b[39m\u001b[38;5;241m31\u001b[39m\u001b[38;5;241m/\u001b[39m(\u001b[38;5;241m4\u001b[39m\u001b[38;5;241m*\u001b[39m\u001b[38;5;241m365\u001b[39m\u001b[38;5;241m+\u001b[39m\u001b[38;5;241m1\u001b[39m), \u001b[38;5;241m4\u001b[39m\u001b[38;5;241m*\u001b[39m\u001b[38;5;241m31\u001b[39m\u001b[38;5;241m/\u001b[39m(\u001b[38;5;241m4\u001b[39m\u001b[38;5;241m*\u001b[39m\u001b[38;5;241m365\u001b[39m\u001b[38;5;241m+\u001b[39m\u001b[38;5;241m1\u001b[39m), \u001b[38;5;241m4\u001b[39m\u001b[38;5;241m*\u001b[39m\u001b[38;5;241m30\u001b[39m\u001b[38;5;241m/\u001b[39m(\u001b[38;5;241m4\u001b[39m\u001b[38;5;241m*\u001b[39m\u001b[38;5;241m365\u001b[39m\u001b[38;5;241m+\u001b[39m\u001b[38;5;241m1\u001b[39m), \u001b[38;5;241m4\u001b[39m\u001b[38;5;241m*\u001b[39m\u001b[38;5;241m31\u001b[39m\u001b[38;5;241m/\u001b[39m\u001b[38;5;241;43m3\u001b[39;49m\u001b[43m(\u001b[49m\u001b[38;5;241;43m4\u001b[39;49m\u001b[38;5;241;43m*\u001b[39;49m\u001b[38;5;241;43m365\u001b[39;49m\u001b[38;5;241;43m+\u001b[39;49m\u001b[38;5;241;43m1\u001b[39;49m\u001b[43m)\u001b[49m, \u001b[38;5;241m4\u001b[39m\u001b[38;5;241m*\u001b[39m\u001b[38;5;241m30\u001b[39m\u001b[38;5;241m/\u001b[39m(\u001b[38;5;241m4\u001b[39m\u001b[38;5;241m*\u001b[39m\u001b[38;5;241m365\u001b[39m\u001b[38;5;241m+\u001b[39m\u001b[38;5;241m1\u001b[39m), \u001b[38;5;241m4\u001b[39m\u001b[38;5;241m*\u001b[39m\u001b[38;5;241m31\u001b[39m\u001b[38;5;241m/\u001b[39m(\u001b[38;5;241m4\u001b[39m\u001b[38;5;241m*\u001b[39m\u001b[38;5;241m365\u001b[39m\u001b[38;5;241m+\u001b[39m\u001b[38;5;241m1\u001b[39m)]\n\u001b[1;32m      8\u001b[0m pwithleapdays\n\u001b[1;32m     10\u001b[0m \u001b[38;5;28;01mdef\u001b[39;00m\u001b[38;5;250m \u001b[39m\u001b[38;5;21mclass_of_people\u001b[39m(size\u001b[38;5;241m=\u001b[39m\u001b[38;5;241m30\u001b[39m, model\u001b[38;5;241m=\u001b[39mpuniform):\n",
      "\u001b[0;31mTypeError\u001b[0m: 'int' object is not callable"
     ]
    }
   ],
   "source": [
    "Months = ['January', 'February', 'March', 'April', 'May', 'June','July', 'August', 'September', 'October', 'November', 'December']\n",
    "\n",
    "puniform = [1/12 for i in range(12)]\n",
    "puniform\n",
    "pnoleapdays = [31/365, 28/365, 31/365, 30/365, 31/365, 30/365, 31/365, 31/365, 30/365, 31/365, 30/365, 31/365]\n",
    "pnoleapdays\n",
    "pwithleapdays = [4*31/(4*365+1), (4*28+1)/(4*365+1), 4*31/(4*365+1), 4*30/(4*365+1), 4*31/(4*365+1), 4*30/(4*365+1), 4*31/(4*365+1), 4*31/(4*365+1), 4*30/(4*365+1), 4*31/3(4*365+1), 4*30/(4*365+1), 4*31/(4*365+1)]\n",
    "pwithleapdays\n",
    "\n",
    "def class_of_people(size=30, model=puniform):\n",
    "    return np.random.choice(Months, a=size ,p=model)\n",
    "\n",
    "class_of_people()"
   ]
  }
 ],
 "metadata": {
  "kernelspec": {
   "display_name": "Python 3 (ipykernel)",
   "language": "python",
   "name": "python3"
  },
  "language_info": {
   "codemirror_mode": {
    "name": "ipython",
    "version": 3
   },
   "file_extension": ".py",
   "mimetype": "text/x-python",
   "name": "python",
   "nbconvert_exporter": "python",
   "pygments_lexer": "ipython3",
   "version": "3.12.1"
  }
 },
 "nbformat": 4,
 "nbformat_minor": 2
}
