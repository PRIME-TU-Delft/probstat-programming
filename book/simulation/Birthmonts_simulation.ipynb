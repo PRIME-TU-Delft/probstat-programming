{
 "cells": [
  {
   "cell_type": "markdown",
   "metadata": {},
   "source": [
    "# Birth Month Simulation\n",
    "\n",
    "We can use the built in random choice feature of numpy to simulate non-uniformly distributed events. For instance below we consider the situation where we want to simulate the choice of a costumer at a chips shop. The costumer can chooce to have mayonaise, ketchup, curry or peanut sauce on their chips. We simulate the choice the costumer makes by assigning each choice a certain probability. "
   ]
  },
  {
   "cell_type": "code",
   "execution_count": null,
   "metadata": {
    "tags": [
     "thebe-remove-input-init"
    ]
   },
   "outputs": [],
   "source": [
    "import micropip\n",
    "\n",
    "await micropip.install(\"seaborn\")"
   ]
  },
  {
   "cell_type": "code",
   "execution_count": null,
   "metadata": {},
   "outputs": [],
   "source": [
    "import numpy as np\n",
    "import pandas as pd\n",
    "import matplotlib.pyplot as plt\n",
    "import seaborn as sns"
   ]
  },
  {
   "cell_type": "code",
   "execution_count": null,
   "metadata": {},
   "outputs": [],
   "source": [
    "food = [\"mayonaise\", \"ketchup\", \"curry\", \"peanut sauce\"]\n",
    "p = [0.6, 0.1, 0.15, 0.15]\n",
    "food_choice = np.random.choice(food, p=p)\n",
    "print(food_choice)"
   ]
  },
  {
   "cell_type": "markdown",
   "metadata": {},
   "source": [
    "Now let's consider simulation of the birth months. So we will simulate a classroom of people together with their birth months. We use three different models for the birth months distributions. Namely, the uniform distribution over months, a uniform model over days that does not take leap days into account and a uniform model over days that does take leap days into account. "
   ]
  },
  {
   "cell_type": "code",
   "execution_count": null,
   "metadata": {},
   "outputs": [],
   "source": [
    "months = [\n",
    "    \"January\",\n",
    "    \"February\",\n",
    "    \"March\",\n",
    "    \"April\",\n",
    "    \"May\",\n",
    "    \"June\",\n",
    "    \"July\",\n",
    "    \"August\",\n",
    "    \"September\",\n",
    "    \"October\",\n",
    "    \"November\",\n",
    "    \"December\",\n",
    "]\n",
    "\n",
    "p_uniform_months = [1 / 12 for i in range(12)]\n",
    "\n",
    "p_uniform_no_leap_days = [\n",
    "    31 / 365,\n",
    "    28 / 365,\n",
    "    31 / 365,\n",
    "    30 / 365,\n",
    "    31 / 365,\n",
    "    30 / 365,\n",
    "    31 / 365,\n",
    "    31 / 365,\n",
    "    30 / 365,\n",
    "    31 / 365,\n",
    "    30 / 365,\n",
    "    31 / 365,\n",
    "]\n",
    "\n",
    "p_uniform_with_leap_days = [\n",
    "    4 * 31 / (4 * 365 + 1),\n",
    "    (4 * 28 + 1) / (4 * 365 + 1),\n",
    "    4 * 31 / (4 * 365 + 1),\n",
    "    4 * 30 / (4 * 365 + 1),\n",
    "    4 * 31 / (4 * 365 + 1),\n",
    "    4 * 30 / (4 * 365 + 1),\n",
    "    4 * 31 / (4 * 365 + 1),\n",
    "    4 * 31 / (4 * 365 + 1),\n",
    "    4 * 30 / (4 * 365 + 1),\n",
    "    4 * 31 / (4 * 365 + 1),\n",
    "    4 * 30 / (4 * 365 + 1),\n",
    "    4 * 31 / (4 * 365 + 1),\n",
    "]\n",
    "\n",
    "\n",
    "def class_of_people(size, model=p_uniform_months):\n",
    "    return np.random.choice(months, size=size, p=model)"
   ]
  },
  {
   "cell_type": "markdown",
   "metadata": {},
   "source": [
    "Finally let's have a look at our simulated distribution. For more on plotting have a look at the visualiation chapter. Below we load our simulated data into a dataframe and subsquently plot the proportions of each model into a histogram. "
   ]
  },
  {
   "cell_type": "code",
   "execution_count": null,
   "metadata": {},
   "outputs": [],
   "source": [
    "simulated_uniform_months_model = class_of_people(200)\n",
    "simulated_uniform_no_leap_days_model = class_of_people(\n",
    "    200, model=p_uniform_no_leap_days\n",
    ")\n",
    "simulated_uniform_with_leap_days_model = class_of_people(\n",
    "    200, model=p_uniform_with_leap_days\n",
    ")\n",
    "\n",
    "df_simulated_uniform_months_model = pd.DataFrame(\n",
    "    simulated_uniform_months_model, columns=[\"Month\"]\n",
    ")\n",
    "df_simulated_uniform_no_leap_days_model = pd.DataFrame(\n",
    "    simulated_uniform_no_leap_days_model, columns=[\"Month\"]\n",
    ")\n",
    "df_simulated_uniform_with_leap_days_model = pd.DataFrame(\n",
    "    simulated_uniform_with_leap_days_model, columns=[\"Month\"]\n",
    ")\n",
    "\n",
    "\n",
    "plt.figure(figsize=(15, 5))\n",
    "\n",
    "\n",
    "plt.subplot(1, 3, 1)\n",
    "sns.countplot(\n",
    "    x=\"Month\", data=df_simulated_uniform_months_model, order=months, stat=\"proportion\"\n",
    ")\n",
    "plt.title(\"Distribution: uniform on months\")\n",
    "plt.xlabel(\"Month\")\n",
    "plt.ylabel(\"Proportion\")\n",
    "plt.xticks(rotation=45)\n",
    "\n",
    "\n",
    "plt.subplot(1, 3, 2)\n",
    "sns.countplot(\n",
    "    x=\"Month\",\n",
    "    data=df_simulated_uniform_no_leap_days_model,\n",
    "    order=months,\n",
    "    stat=\"proportion\",\n",
    ")\n",
    "plt.title(\"Distribution: uniform on days (no leap days)\")\n",
    "plt.xlabel(\"Month\")\n",
    "plt.ylabel(\"Proportion\")\n",
    "plt.xticks(rotation=45)\n",
    "\n",
    "\n",
    "plt.subplot(1, 3, 3)\n",
    "sns.countplot(\n",
    "    x=\"Month\",\n",
    "    data=df_simulated_uniform_with_leap_days_model,\n",
    "    order=months,\n",
    "    stat=\"proportion\",\n",
    ")\n",
    "plt.title(\"Distribution: uniform on days (with leap days)\")\n",
    "plt.xlabel(\"Month\")\n",
    "plt.ylabel(\"Proportion\")\n",
    "plt.xticks(rotation=45)\n",
    "\n",
    "plt.tight_layout()\n",
    "plt.show()"
   ]
  },
  {
   "cell_type": "code",
   "execution_count": null,
   "metadata": {},
   "outputs": [],
   "source": []
  }
 ],
 "metadata": {
  "kernelspec": {
   "display_name": "Python 3",
   "language": "python",
   "name": "python3"
  },
  "language_info": {
   "codemirror_mode": {
    "name": "ipython",
    "version": 3
   },
   "file_extension": ".py",
   "mimetype": "text/x-python",
   "name": "python",
   "nbconvert_exporter": "python",
   "pygments_lexer": "ipython3",
   "version": "3.11.5"
  }
 },
 "nbformat": 4,
 "nbformat_minor": 2
}
